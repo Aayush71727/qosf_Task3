{
 "cells": [
  {
   "cell_type": "code",
   "execution_count": 1,
   "metadata": {},
   "outputs": [],
   "source": [
    "import numpy as np"
   ]
  },
  {
   "cell_type": "code",
   "execution_count": 2,
   "metadata": {},
   "outputs": [],
   "source": [
    "import random"
   ]
  },
  {
   "cell_type": "code",
   "execution_count": 3,
   "metadata": {},
   "outputs": [],
   "source": [
    "default_projection =np.zeros(1,) # Default projection vector, just to make things work "
   ]
  },
  {
   "cell_type": "code",
   "execution_count": 4,
   "metadata": {},
   "outputs": [],
   "source": [
    "def get_ground_state(num_qubits):\n",
    "    \n",
    "    # return vector of size 2**num_qubits with all zeroes except first element which is 1\n",
    "    state_vector = np.zeros(2**num_qubits)\n",
    "    state_vector[0] = 1\n",
    "    \n",
    "    return state_vector\n",
    "\n",
    "def get_operator(total_qubits,projection, gate_unitary, target_qubit):\n",
    "    \n",
    "    # return unitary operator of size 2**n x 2**n for given gate and target qubits\n",
    "    \n",
    "    Matrix = 0\n",
    "    \n",
    "    if projection.shape == (1,):\n",
    "        Matrix = gate_unitary\n",
    "    else :\n",
    "        Matrix = projection\n",
    "        \n",
    "    I = np.identity(2)\n",
    "    K = I\n",
    "    flag = False # this is used so that gate_unitary or projection will be at the correct position\n",
    "                 # during the tensor product\n",
    "    \n",
    "    for i in range(total_qubits-2):\n",
    "            if target_qubit == 0:\n",
    "                K = np.kron(Matrix,K)\n",
    "                flag = True\n",
    "                continue\n",
    "            elif i==target_qubit-1:\n",
    "                K = np.kron(K,Matrix)\n",
    "                flag = True\n",
    "                continue\n",
    "            K = np.kron(I,K)\n",
    "             \n",
    "    if flag:\n",
    "        Operator = np.kron(K,I)\n",
    "    else:    \n",
    "        Operator = np.kron(K,Matrix)\n",
    "    \n",
    "    flag = False\n",
    "    \n",
    "    return Operator\n",
    "\n",
    "def cnot_operator(total_qubits, gate_unitary, target_qubits):\n",
    "    \n",
    "    # X gate (CNOT is controlled-X):\n",
    "    gate_unitary = np.array([\n",
    "                        [0, 1],\n",
    "                        [1, 0]\n",
    "                    ])\n",
    "    \n",
    "    # Projection operator |0><0|\n",
    "    P0x0 = np.array([\n",
    "            [1, 0],\n",
    "            [0, 0]\n",
    "         ])\n",
    "\n",
    "    # Projection operator |1><1|\n",
    "    P1x1 = np.array([\n",
    "            [0, 0],\n",
    "            [0, 1]\n",
    "         ])\n",
    "    \n",
    "    \n",
    "    Operator_1 = 0\n",
    "    Operator_2a = 0\n",
    "    Operator_2b = 0\n",
    "    Controlled_qubit = target_qubits[0] \n",
    "    target_qubit = target_qubits[1]\n",
    "    \n",
    "    # if the controlled qubit is |0>\n",
    "    Operator_1 = get_operator(total_qubits, P0x0,gate_unitary,Controlled_qubit)\n",
    "    \n",
    "    # if the controlled qubit is |1>\n",
    "    Operator_2a = get_operator(total_qubits,P1x1, gate_unitary,Controlled_qubit)\n",
    "    Operator_2b = get_operator(total_qubits,default_projection, gate_unitary,target_qubit)\n",
    "        \n",
    "    return Operator_1+(np.dot(Operator_2a,Operator_2b))\n",
    "\n",
    "def run_program(initial_state, program):\n",
    "    \n",
    "    \n",
    "    Gates = [] # List to store all the gates/unitaries seprately\n",
    "    Operators = [] # To store all operators\n",
    "    qubits = [] # To store the target qubits \n",
    "    final_state = initial_state\n",
    "    total_qubits = int(np.log2(len(initial_state))) # Total number of qubits\n",
    "    \n",
    "    # read program, and for each gate:\n",
    "    \n",
    "    for i in range(len(program)):\n",
    "        Gates.append(program[i][\"unitary\"])\n",
    "        qubits.append(program[i][\"target\"])\n",
    "        \n",
    "    #   - calculate matrix operator\n",
    "     \n",
    "    for i in range(len(Gates)):  \n",
    "        if len(qubits[i])==2 :\n",
    "            Operators.append(cnot_operator(total_qubits,Gates[i],qubits[i]))\n",
    "        else :\n",
    "            Operators.append(get_operator(total_qubits,default_projection,Gates[i],qubits[i][0]))\n",
    "        \n",
    "    #   - multiply state with operator\n",
    "    for i  in range(len(Operators)):\n",
    "         final_state = np.dot(final_state,Operators[i])\n",
    "            \n",
    "    # return final state\n",
    "    return final_state\n",
    "\n",
    "def measure_all(state_vector):\n",
    "    \n",
    "    # choose element from state_vector using weighted random and return it's index\n",
    "    \n",
    "    num_qubits = int(np.log2(len(state_vector))) # Total number of qubits\n",
    "    \n",
    "    # this will create a list of length equal to the length of state_vector \n",
    "    # and elements will be index number in binary form. eg: num_qubits = 2 => index_list = ['00', '01', '10', '11']\n",
    "    \n",
    "    index_list = list((bin(i).replace(\"0b\", \"\")).zfill(num_qubits) for i in range(len(state_vector))) \n",
    "    \n",
    "    key = random.choices(index_list,weights=state_vector,k=1)[0]\n",
    "    \n",
    "    return key\n",
    "\n",
    "def get_counts(state_vector, num_shots):\n",
    "    \n",
    "    # simply execute measure_all in a loop num_shots times and\n",
    "    \n",
    "    Counts = {} # To store the element_index & number_of_ocurrences \n",
    "    \n",
    "    \n",
    "    for shot in range(num_shots):\n",
    "        key = measure_all(state_vector)\n",
    "        if key in Counts :\n",
    "            Counts[key] = 1+Counts.get(key)\n",
    "        else:\n",
    "            Counts[key] = 1 \n",
    "   \n",
    "    return Counts"
   ]
  },
  {
   "cell_type": "code",
   "execution_count": 5,
   "metadata": {},
   "outputs": [],
   "source": [
    "X = np.array([\n",
    "[0, 1],\n",
    "[1, 0]\n",
    "])"
   ]
  },
  {
   "cell_type": "code",
   "execution_count": 6,
   "metadata": {},
   "outputs": [],
   "source": [
    "my_circuit = [\n",
    "  { \"unitary\": [[0.70710678, 0.70710678], [0.70710678, -0.70710678]], \"target\": [0] }, \n",
    "  { \"unitary\": [ [1, 0, 0, 0], [0, 1, 0, 0], [0, 0, 0, 1], [0, 0, 1, 0] ], \"target\": [0, 1] }\n",
    "]"
   ]
  },
  {
   "cell_type": "code",
   "execution_count": 7,
   "metadata": {},
   "outputs": [],
   "source": [
    "initial_state = get_ground_state(3)"
   ]
  },
  {
   "cell_type": "code",
   "execution_count": 8,
   "metadata": {},
   "outputs": [
    {
     "data": {
      "text/plain": [
       "array([1., 0., 0., 0., 0., 0., 0., 0.])"
      ]
     },
     "execution_count": 8,
     "metadata": {},
     "output_type": "execute_result"
    }
   ],
   "source": [
    "initial_state"
   ]
  },
  {
   "cell_type": "code",
   "execution_count": 9,
   "metadata": {},
   "outputs": [],
   "source": [
    "final_state=run_program(initial_state,my_circuit)"
   ]
  },
  {
   "cell_type": "code",
   "execution_count": 10,
   "metadata": {},
   "outputs": [
    {
     "data": {
      "text/plain": [
       "array([0.70710678, 0.        , 0.        , 0.        , 0.        ,\n",
       "       0.        , 0.70710678, 0.        ])"
      ]
     },
     "execution_count": 10,
     "metadata": {},
     "output_type": "execute_result"
    }
   ],
   "source": [
    "final_state"
   ]
  },
  {
   "cell_type": "code",
   "execution_count": 11,
   "metadata": {},
   "outputs": [
    {
     "data": {
      "text/plain": [
       "{'110': 499, '000': 501}"
      ]
     },
     "execution_count": 11,
     "metadata": {},
     "output_type": "execute_result"
    }
   ],
   "source": [
    "get_counts(final_state,1000)"
   ]
  },
  {
   "cell_type": "code",
   "execution_count": null,
   "metadata": {},
   "outputs": [],
   "source": []
  },
  {
   "cell_type": "code",
   "execution_count": null,
   "metadata": {},
   "outputs": [],
   "source": []
  },
  {
   "cell_type": "code",
   "execution_count": null,
   "metadata": {},
   "outputs": [],
   "source": []
  },
  {
   "cell_type": "code",
   "execution_count": null,
   "metadata": {},
   "outputs": [],
   "source": []
  },
  {
   "cell_type": "code",
   "execution_count": null,
   "metadata": {},
   "outputs": [],
   "source": []
  },
  {
   "cell_type": "code",
   "execution_count": null,
   "metadata": {},
   "outputs": [],
   "source": []
  }
 ],
 "metadata": {
  "kernelspec": {
   "display_name": "Python 3",
   "language": "python",
   "name": "python3"
  },
  "language_info": {
   "codemirror_mode": {
    "name": "ipython",
    "version": 3
   },
   "file_extension": ".py",
   "mimetype": "text/x-python",
   "name": "python",
   "nbconvert_exporter": "python",
   "pygments_lexer": "ipython3",
   "version": "3.7.7"
  }
 },
 "nbformat": 4,
 "nbformat_minor": 4
}
